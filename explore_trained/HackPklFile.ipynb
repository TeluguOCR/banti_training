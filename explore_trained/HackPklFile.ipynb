{
 "cells": [
  {
   "cell_type": "code",
   "execution_count": 1,
   "id": "6084d96e",
   "metadata": {},
   "outputs": [],
   "source": [
    "from explore_utils import *"
   ]
  },
  {
   "cell_type": "code",
   "execution_count": 2,
   "id": "131be4de",
   "metadata": {},
   "outputs": [
    {
     "data": {
      "text/plain": [
       "'%.2f'"
      ]
     },
     "execution_count": 2,
     "metadata": {},
     "output_type": "execute_result"
    }
   ],
   "source": [
    "%precision 2"
   ]
  },
  {
   "cell_type": "code",
   "execution_count": 3,
   "id": "9798cb1f",
   "metadata": {},
   "outputs": [],
   "source": [
    "fname = '../runs/6_c5c12c30c75_823383_03.pkl'"
   ]
  },
  {
   "cell_type": "code",
   "execution_count": 4,
   "id": "821d658c",
   "metadata": {
    "scrolled": false
   },
   "outputs": [
    {
     "name": "stdout",
     "output_type": "stream",
     "text": [
      "Layer: 0: ElasticLayer\n",
      "\t{'translation': 5, 'zoom': 1.2, 'magnitude': 60, 'sigma': 15, 'pflip': 0.0, 'angle': 5, 'nearest': True, 'invert_image': False, 'img_sz': 96}\n",
      "Layer: 1: ConvLayer\n",
      "\t{'num_maps': 5, 'filter_sz': 3, 'stride': 1, 'actvn': 'relu05', 'mode': 'same', 'reg': {'maxnorm': 3}}\n",
      "\t(5, 1, 3, 3) 1.9344 -1.2748 [1.03 1.7  3.   3.   2.62]\n",
      "\t(5,) 0.2236 -2.9998 None\n",
      "Layer: 2: PoolLayer\n",
      "\t{'pool_sz': 2}\n",
      "Layer: 3: ConvLayer\n",
      "\t{'num_maps': 12, 'filter_sz': 3, 'stride': 1, 'actvn': 'relu05', 'mode': 'same', 'reg': {'maxnorm': 3}}\n",
      "\t(12, 5, 3, 3) 1.2750 -1.6979 [2.65 3.   3.   2.73 3.   1.49 3.   2.4  3.   1.18 1.26 3.  ]\n",
      "\t(12,) -0.1149 -3.0000 None\n",
      "Layer: 4: PoolLayer\n",
      "\t{'pool_sz': 2}\n",
      "Layer: 5: ConvLayer\n",
      "\t{'num_maps': 30, 'filter_sz': 3, 'stride': 1, 'actvn': 'relu05', 'mode': 'same', 'reg': {'maxnorm': 3}}\n",
      "\t(30, 12, 3, 3) 0.8579 -0.8491 [1.8  1.75 1.53 2.62 2.45 2.23 2.36 2.   2.15 2.01 1.73 1.86 1.79 1.73\n",
      " 3.   1.98 1.9  1.44 2.18 2.23 2.06 2.05 1.87 1.59 2.04 2.46 2.27 3.\n",
      " 2.14 2.05]\n",
      "\t(30,) 1.9642 -1.2206 None\n",
      "Layer: 6: PoolLayer\n",
      "\t{'pool_sz': 2}\n",
      "Layer: 7: ConvLayer\n",
      "\t{'num_maps': 75, 'filter_sz': 3, 'stride': 1, 'actvn': 'relu05', 'mode': 'same', 'reg': {'maxnorm': 3}}\n",
      "\t(75, 30, 3, 3) 0.7340 -0.7001 [2.26 1.85 1.07 1.33 2.46 1.37 2.1  2.44 1.77 2.52 1.02 2.07 2.28 2.02\n",
      " 1.81 1.36 1.73 1.74 2.54 2.48 1.09 1.63 2.32 1.91 2.03 2.05 1.35 2.05\n",
      " 1.35 1.63 2.17 1.54 1.71 1.96 1.77 1.73 1.93 1.49 1.57 1.78 1.94 1.34\n",
      " 1.63 2.42 1.75 1.36 1.32 1.79 2.04 1.41 1.79 1.92 2.22 1.75 2.87 1.14\n",
      " 1.07 1.33 1.49 1.86 1.79 1.81 1.67 2.32 1.31 1.79 1.66 1.36 1.59 1.68\n",
      " 2.39 1.31 1.6  1.66 2.04]\n",
      "\t(75,) 0.7167 -0.2314 None\n",
      "Layer: 8: PoolLayer\n",
      "\t{'pool_sz': 2}\n",
      "Layer: 9: SoftmaxLayer\n",
      "\t{'n_out': 457, 'reg': {'maxnorm': 3}}\n",
      "\t(2700, 457) 0.4568 -0.3641 [1.64 1.73 1.73 1.7  1.71 1.73 1.67 1.57 1.99 1.73 1.7  1.65 1.66 1.73\n",
      " 1.6  1.66 1.66 1.56 1.67 1.66 1.69 1.56 1.56 1.59 1.76 1.55 1.59 1.63\n",
      " 1.59 1.62 1.55 1.69 1.55 1.55 1.58 1.6  1.59 1.53 1.57 1.61 1.68 1.7\n",
      " 1.72 1.76 1.59 1.63 1.6  1.62 1.75 1.72 1.76 1.71 1.55 1.69 1.59 1.65\n",
      " 1.63 1.75 1.64 1.65 1.62 1.61 1.73 1.66 1.71 1.71 1.72 1.65 1.71 1.67\n",
      " 1.69 1.63 1.68 1.64 1.69 1.74 1.69 1.61 1.71 1.57 1.63 1.67 1.7  1.64\n",
      " 1.64 1.73 1.56 1.57 1.64 1.57 1.58 1.72 1.56 1.7  1.53 1.71 1.59 1.68\n",
      " 1.7  1.63 1.66 1.7  1.67 1.66 1.76 1.64 1.57 1.7  1.58 1.71 1.63 1.74\n",
      " 1.59 1.75 1.7  1.74 1.8  1.62 1.73 1.68 2.92 1.58 1.69 1.55 1.77 1.64\n",
      " 1.75 1.7  1.76 1.72 1.7  1.67 1.66 1.66 1.69 1.57 1.71 1.68 1.66 1.7\n",
      " 1.6  1.61 1.72 1.77 1.63 1.67 1.65 1.61 1.63 1.74 1.37 1.47 1.85 1.82\n",
      " 1.63 1.72 1.73 1.8  1.69 1.76 1.68 1.6  1.65 1.64 1.74 1.67 1.9  1.7\n",
      " 1.7  1.62 1.7  1.64 1.7  1.73 1.53 1.64 1.61 1.62 1.56 1.74 1.67 1.63\n",
      " 1.69 1.69 1.66 1.8  1.86 1.88 1.76 1.88 1.51 1.6  1.68 1.79 1.67 1.78\n",
      " 1.77 1.57 1.64 1.62 1.74 1.58 1.65 1.77 1.63 1.7  1.76 1.67 1.69 1.69\n",
      " 1.75 1.71 1.72 1.75 1.55 1.71 1.76 1.79 1.62 1.6  1.71 1.77 1.65 1.69\n",
      " 1.71 1.71 1.65 1.68 1.71 1.86 1.61 1.72 1.65 1.76 1.55 1.65 1.6  1.7\n",
      " 1.67 1.76 1.74 1.83 1.62 1.71 1.7  1.68 1.76 1.55 1.77 1.61 1.67 1.72\n",
      " 1.65 1.67 1.65 1.78 1.64 1.77 1.8  1.71 1.77 1.7  1.57 1.66 1.78 1.62\n",
      " 1.55 1.56 1.56 1.65 1.65 1.77 1.64 1.66 1.67 1.65 1.78 1.6  1.71 1.67\n",
      " 1.68 1.64 1.58 1.7  1.73 1.7  1.74 1.81 1.73 1.64 1.67 1.76 1.66 1.76\n",
      " 1.79 1.72 1.66 1.63 1.62 1.62 1.5  1.61 1.69 1.65 1.65 1.75 1.74 1.69\n",
      " 1.68 1.63 1.62 1.66 1.65 1.62 1.49 1.7  1.74 1.72 1.66 1.72 1.83 1.71\n",
      " 1.62 1.47 1.57 1.6  1.68 1.6  1.43 1.41 1.67 1.63 1.56 1.62 1.62 1.55\n",
      " 1.55 1.62 1.71 1.69 1.64 1.82 1.8  1.55 1.68 1.64 1.73 1.74 1.66 1.58\n",
      " 1.68 1.7  1.66 1.65 1.78 1.63 1.76 1.83 1.77 1.75 1.7  1.78 1.64 1.74\n",
      " 1.78 1.76 1.74 1.65 1.81 1.71 1.76 1.66 1.66 1.71 1.78 1.72 1.71 1.61\n",
      " 1.65 1.62 1.63 1.64 1.56 1.59 1.78 1.72 1.67 1.67 1.51 1.67 1.59 1.71\n",
      " 1.66 1.57 1.64 1.54 1.59 1.66 1.56 1.69 1.58 1.64 1.6  1.62 1.54 1.54\n",
      " 1.61 1.65 1.71 1.76 1.7  1.68 1.64 1.62 1.66 1.67 1.56 1.57 1.69 1.58\n",
      " 1.68 1.67 1.73 1.75 1.67 1.73 1.63 1.89 1.72 1.65 1.64 1.51 1.51 1.57\n",
      " 1.67 1.62 1.66 1.57 1.54 1.56 1.66 1.69 1.6  1.67 1.66 1.61 1.63 1.75\n",
      " 1.62 1.66 1.66 1.84 1.79 1.69 1.72 2.03 1.57]\n",
      "\t(457,) 0.1010 -0.1327 None\n"
     ]
    }
   ],
   "source": [
    "specs, wts, tps = loadnet(fname)\n",
    "printspecs(specs, wts)"
   ]
  },
  {
   "cell_type": "code",
   "execution_count": 6,
   "id": "98507dee",
   "metadata": {},
   "outputs": [
    {
     "name": "stdout",
     "output_type": "stream",
     "text": [
      "ConvLayer {'maxnorm': 3} -> ConvLayer {'maxnorm': 3}\n",
      "relu\n",
      "relu\n",
      "ConvLayer {'maxnorm': 3} -> ConvLayer {'maxnorm': 3}\n",
      "relu\n",
      "relu\n",
      "ConvLayer {'maxnorm': 3} -> ConvLayer {'maxnorm': 3}\n",
      "relu\n",
      "relu\n",
      "ConvLayer {'maxnorm': 3} -> ConvLayer {'maxnorm': 3}\n",
      "relu\n",
      "relu\n",
      "SoftmaxLayer {'maxnorm': 3} -> SoftmaxLayer {'maxnorm': 3}\n"
     ]
    }
   ],
   "source": [
    "for name, deet in specs:\n",
    "    if 'reg' in deet:\n",
    "        print(name, deet['reg'], end=' -> ')\n",
    "        deet['reg']['maxnorm'] = 3\n",
    "        print(name, deet['reg'])\n",
    "    if 'actvn' in deet:\n",
    "        print(deet[\"actvn\"])\n",
    "        deet[\"actvn\"] = 'relu'\n",
    "        print(deet[\"actvn\"])\n"
   ]
  },
  {
   "cell_type": "code",
   "execution_count": 7,
   "id": "361e92bb",
   "metadata": {},
   "outputs": [
    {
     "data": {
      "text/plain": [
       "{'BATCH_SZ': 20,\n",
       " 'NUM_EPOCHS': 101,\n",
       " 'TRAIN_ON_FRACTION': 0.75,\n",
       " 'EPOCHS_TO_TEST': 1,\n",
       " 'TEST_SAMP_SZ': 5000,\n",
       " 'INIT_LEARNING_RATE': 0.10,\n",
       " 'EPOCHS_TO_HALF_RATE': 1,\n",
       " 'SEED': 823383,\n",
       " 'CUR_EPOCH': 100}"
      ]
     },
     "execution_count": 7,
     "metadata": {},
     "output_type": "execute_result"
    }
   ],
   "source": [
    "#tps['NUM_EPOCHS'] = 51\n",
    "#tps['EPOCHS_TO_HALF_RATE'] = 1\n",
    "tps"
   ]
  },
  {
   "cell_type": "code",
   "execution_count": 13,
   "id": "de73c868",
   "metadata": {},
   "outputs": [
    {
     "name": "stdout",
     "output_type": "stream",
     "text": [
      "Saved  ../runs/6_c8c16c32c64_053202_06_053202_05re10mn3.pkl\n"
     ]
    }
   ],
   "source": [
    "fout = fname[:-4] + 're10mn3.pkl'\n",
    "savenet(fout, specs, wts, tps)"
   ]
  },
  {
   "cell_type": "code",
   "execution_count": null,
   "id": "410252a8",
   "metadata": {},
   "outputs": [],
   "source": []
  }
 ],
 "metadata": {
  "kernelspec": {
   "display_name": "PythonTheano",
   "language": "python",
   "name": "pythontheano"
  },
  "language_info": {
   "codemirror_mode": {
    "name": "ipython",
    "version": 3
   },
   "file_extension": ".py",
   "mimetype": "text/x-python",
   "name": "python",
   "nbconvert_exporter": "python",
   "pygments_lexer": "ipython3",
   "version": "3.8.10"
  }
 },
 "nbformat": 4,
 "nbformat_minor": 5
}
